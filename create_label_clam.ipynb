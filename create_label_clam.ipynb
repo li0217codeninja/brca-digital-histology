{
 "cells": [
  {
   "cell_type": "markdown",
   "id": "4781247b-1dea-4e7b-972d-58799269897e",
   "metadata": {},
   "source": [
    "## Add training lables to CLAM Preprocessing \n",
    "\n",
    "\n",
    "This notebook evaluates the dataset & create train labels.\n",
    "\n",
    "datasets/brca-psj-path//contest-phase-2/csv-train/ \n",
    "\n",
    "- `cancer-dx.csv`  \n",
    "- `comorbidities.csv`\n",
    "- `demographics.csv`\n",
    "- `outcomes.csv`\n",
    "- `pathology-items.csv`\n",
    "- `social-deteriminants.csv`\n",
    "- `treatments.csv`\n",
    "\n",
    "data dictionary:\n",
    "https://docs.ngsci.org/datasets/brca-psj-path/data-dictionary.html\n"
   ]
  },
  {
   "cell_type": "code",
   "execution_count": 6,
   "id": "8c22ccf1-7de9-41c7-bc37-09d93f0869f8",
   "metadata": {
    "tags": []
   },
   "outputs": [],
   "source": [
    "import os\n",
    "from pathlib import Path\n",
    "from openslide import OpenSlide\n",
    "from PIL import Image\n",
    "import matplotlib.pyplot as plt\n",
    "import h5py\n",
    "import torch\n",
    "from torch import nn\n",
    "from torch.nn import functional as F\n",
    "from torch.utils.data import DataLoader, Dataset\n",
    "from torchmetrics import Accuracy\n",
    "from torchvision import transforms\n",
    "from torchvision.models import resnet18, alexnet\n",
    "import pytorch_lightning as pl\n",
    "from tqdm import tqdm\n",
    "import pandas as pd\n",
    "\n",
    "#torch.cuda.init()\n",
    "# assert torch.cuda.is_initialized()\n",
    "#print(torch.cuda.get_device_properties(0))\n",
    "\n",
    "BRCA_ROOT = Path().home() / \"datasets\" / \"brca-psj-path\"   #Path().home() home direc of current user,typically /home/<user>\n",
    "IMAGE_ROOT = BRCA_ROOT / \"contest-phase-2\" / \"png-downsampled-train\"\n",
    "#TABLE_DIR = BRCA_ROOT / \"v2\"\n",
    "TABLE_DIR = BRCA_ROOT / \"contest-phase-2\" / \"csv-train\"\n",
    "LOGGER_DIR = Path().home() / \"logs\""
   ]
  },
  {
   "cell_type": "code",
   "execution_count": 3,
   "id": "e33e2d49-7dde-4141-99d9-62e9599138ca",
   "metadata": {
    "tags": []
   },
   "outputs": [],
   "source": [
    "brca_dir = Path().home() / 'datasets' / 'brca-psj-path'\n",
    "ndpi_dir = brca_dir / 'ndpi'\n",
    "clam_train_dir = brca_dir / 'contest-phase-2' / 'clam-preprocessing-train'\n",
    "\n",
    "masks_dir = clam_train_dir / 'masks'\n",
    "patches_dir = clam_train_dir / 'patches'\n",
    "stitches_dir = clam_train_dir / 'stitches'\n",
    "features_h5_dir = clam_train_dir / 'resnet50-features'/ 'h5_files'\n",
    "features_pt_dir = clam_train_dir / 'resnet50-features'/ 'pt_files'\n",
    "\n",
    "slide_id = '0000459a-838d-4865-8bbf-ea66f2e5ee4d'\n",
    "ndpi_fp = ndpi_dir / f'{slide_id}.ndpi'"
   ]
  },
  {
   "cell_type": "code",
   "execution_count": 14,
   "id": "bf13e6c8-0d32-4766-8bcb-2e2bd20fccd2",
   "metadata": {
    "tags": []
   },
   "outputs": [
    {
     "data": {
      "text/plain": [
       "dict_keys(['outcomes.csv', 'cancer-dx.csv', 'demographics.csv', 'comorbidities.csv', 'pathology-items.csv', 'social-determinants.csv', 'treatments.csv'])"
      ]
     },
     "execution_count": 14,
     "metadata": {},
     "output_type": "execute_result"
    }
   ],
   "source": [
    "tables = dict()\n",
    "\n",
    "for csv_fp in TABLE_DIR.glob(\"*.csv\"):\n",
    "    csv_name = csv_fp.name\n",
    "    df = pd.read_csv(csv_fp)\n",
    "    tables[csv_name] = df\n",
    "\n",
    "# The outcomes table is of interests for most of the summary stats\n",
    "outcomes_df = tables[\"outcomes.csv\"]\n",
    "cancerdx_df = tables[\"cancer-dx.csv\"]\n",
    "demographics_df = tables[\"demographics.csv\"]\n",
    "comorbidities_df = tables[\"comorbidities.csv\"]\n",
    "pathology_df = tables[\"pathology-items.csv\"]\n",
    "treatments_df = tables[\"treatments.csv\"]\n",
    "\n",
    "# Create a column with just the base stage number\n",
    "outcomes_df[\"stage_number\"] = outcomes_df[\"stage\"].str.replace(\n",
    "    \"(A|B|C)\", \"\", regex=True\n",
    ")\n",
    "\n",
    "tables.keys()"
   ]
  },
  {
   "cell_type": "code",
   "execution_count": 23,
   "id": "2d843777-5f18-4901-b37b-7ebbe7015dbf",
   "metadata": {
    "tags": []
   },
   "outputs": [
    {
     "data": {
      "text/plain": [
       "stage  mortality\n",
       "0      0            174\n",
       "       1              6\n",
       "IA     0            317\n",
       "       1             18\n",
       "IB     0             51\n",
       "       1              4\n",
       "IIA    0            110\n",
       "       1             26\n",
       "IIB    0             49\n",
       "       1             15\n",
       "IIIA   0             64\n",
       "       1             25\n",
       "IIIB   0             22\n",
       "       1              8\n",
       "IIIC   0             29\n",
       "       1             22\n",
       "IV     0             29\n",
       "       1             31\n",
       "dtype: int64"
      ]
     },
     "execution_count": 23,
     "metadata": {},
     "output_type": "execute_result"
    }
   ],
   "source": [
    "outcomes_df.groupby(['stage','mortality']).size()"
   ]
  },
  {
   "cell_type": "code",
   "execution_count": 19,
   "id": "190cb442-6800-40dd-9399-a9cd4f80e415",
   "metadata": {
    "tags": []
   },
   "outputs": [
    {
     "data": {
      "text/plain": [
       "Index(['biopsy_id', 'patient_ngsci_id', 'case_year', 'biopsy_dt', 'mortality',\n",
       "       'death_dt', 'in_registry', 'stage', 'strict_metastatic_dx',\n",
       "       'strict_metastatic_dx_dt', 'stage_number'],\n",
       "      dtype='object')"
      ]
     },
     "execution_count": 19,
     "metadata": {},
     "output_type": "execute_result"
    }
   ],
   "source": [
    "outcomes_df.columns"
   ]
  },
  {
   "cell_type": "markdown",
   "id": "9a636fa5-a964-431d-8b2f-d632e792236e",
   "metadata": {},
   "source": [
    "waht is `strict_metastatic_dx`?"
   ]
  },
  {
   "cell_type": "code",
   "execution_count": 26,
   "id": "a1a2b2f6-f337-459f-94e4-0cfe74424ddf",
   "metadata": {
    "tags": []
   },
   "outputs": [
    {
     "data": {
      "text/html": [
       "<div>\n",
       "<style scoped>\n",
       "    .dataframe tbody tr th:only-of-type {\n",
       "        vertical-align: middle;\n",
       "    }\n",
       "\n",
       "    .dataframe tbody tr th {\n",
       "        vertical-align: top;\n",
       "    }\n",
       "\n",
       "    .dataframe thead th {\n",
       "        text-align: right;\n",
       "    }\n",
       "</style>\n",
       "<table border=\"1\" class=\"dataframe\">\n",
       "  <thead>\n",
       "    <tr style=\"text-align: right;\">\n",
       "      <th></th>\n",
       "      <th>biopsy_id</th>\n",
       "      <th>cancer_registry_dx_dt</th>\n",
       "      <th>most_definitive_surgical_procedure_cd</th>\n",
       "      <th>most_definitive_radiation_modality_cd</th>\n",
       "      <th>surgical_margin_cd</th>\n",
       "      <th>radiation_summ_cd</th>\n",
       "      <th>chemo_summ_cd</th>\n",
       "      <th>immuno_therapy_cd</th>\n",
       "      <th>hormone_summ_cd</th>\n",
       "      <th>rx_dx_stg_proc_dt</th>\n",
       "      <th>rx_mst_defn_srg_dt</th>\n",
       "      <th>first_surgery_dt</th>\n",
       "      <th>radiation_start_dt</th>\n",
       "      <th>rx_chemo_dt</th>\n",
       "      <th>rx_hormone_dt</th>\n",
       "      <th>stg_dx_summ_cd</th>\n",
       "    </tr>\n",
       "  </thead>\n",
       "  <tbody>\n",
       "    <tr>\n",
       "      <th>997</th>\n",
       "      <td>8881a5ec-5a09-4079-9ee6-616eac6b97f8</td>\n",
       "      <td>2115-04-14</td>\n",
       "      <td>45.0</td>\n",
       "      <td>25.0</td>\n",
       "      <td>0.0</td>\n",
       "      <td>1.0</td>\n",
       "      <td>3.0</td>\n",
       "      <td>0.0</td>\n",
       "      <td>1.0</td>\n",
       "      <td>2115-04-14</td>\n",
       "      <td>2115-05-11</td>\n",
       "      <td>2115-05-11</td>\n",
       "      <td>2115-11-03</td>\n",
       "      <td>2115-06-14</td>\n",
       "      <td>2115-12-29</td>\n",
       "      <td>2.0</td>\n",
       "    </tr>\n",
       "    <tr>\n",
       "      <th>998</th>\n",
       "      <td>febec13d-fd24-4cff-a079-2dd7140ee4cd</td>\n",
       "      <td>2116-03-18</td>\n",
       "      <td>23.0</td>\n",
       "      <td>32.0</td>\n",
       "      <td>0.0</td>\n",
       "      <td>1.0</td>\n",
       "      <td>0.0</td>\n",
       "      <td>0.0</td>\n",
       "      <td>1.0</td>\n",
       "      <td>2116-03-27</td>\n",
       "      <td>2116-05-30</td>\n",
       "      <td>2116-05-02</td>\n",
       "      <td>2116-06-20</td>\n",
       "      <td>NaN</td>\n",
       "      <td>2116-09-01</td>\n",
       "      <td>2.0</td>\n",
       "    </tr>\n",
       "    <tr>\n",
       "      <th>999</th>\n",
       "      <td>2b62e9ee-86f9-4855-82b5-ac7c634487c8</td>\n",
       "      <td>2115-06-14</td>\n",
       "      <td>22.0</td>\n",
       "      <td>31.0</td>\n",
       "      <td>0.0</td>\n",
       "      <td>1.0</td>\n",
       "      <td>0.0</td>\n",
       "      <td>0.0</td>\n",
       "      <td>82.0</td>\n",
       "      <td>2115-06-14</td>\n",
       "      <td>2115-08-02</td>\n",
       "      <td>2115-08-02</td>\n",
       "      <td>2115-09-06</td>\n",
       "      <td>NaN</td>\n",
       "      <td>NaN</td>\n",
       "      <td>2.0</td>\n",
       "    </tr>\n",
       "  </tbody>\n",
       "</table>\n",
       "</div>"
      ],
      "text/plain": [
       "                                biopsy_id cancer_registry_dx_dt   \n",
       "997  8881a5ec-5a09-4079-9ee6-616eac6b97f8            2115-04-14  \\\n",
       "998  febec13d-fd24-4cff-a079-2dd7140ee4cd            2116-03-18   \n",
       "999  2b62e9ee-86f9-4855-82b5-ac7c634487c8            2115-06-14   \n",
       "\n",
       "     most_definitive_surgical_procedure_cd   \n",
       "997                                   45.0  \\\n",
       "998                                   23.0   \n",
       "999                                   22.0   \n",
       "\n",
       "     most_definitive_radiation_modality_cd  surgical_margin_cd   \n",
       "997                                   25.0                 0.0  \\\n",
       "998                                   32.0                 0.0   \n",
       "999                                   31.0                 0.0   \n",
       "\n",
       "     radiation_summ_cd  chemo_summ_cd  immuno_therapy_cd  hormone_summ_cd   \n",
       "997                1.0            3.0                0.0              1.0  \\\n",
       "998                1.0            0.0                0.0              1.0   \n",
       "999                1.0            0.0                0.0             82.0   \n",
       "\n",
       "    rx_dx_stg_proc_dt rx_mst_defn_srg_dt first_surgery_dt radiation_start_dt   \n",
       "997        2115-04-14         2115-05-11       2115-05-11         2115-11-03  \\\n",
       "998        2116-03-27         2116-05-30       2116-05-02         2116-06-20   \n",
       "999        2115-06-14         2115-08-02       2115-08-02         2115-09-06   \n",
       "\n",
       "    rx_chemo_dt rx_hormone_dt  stg_dx_summ_cd  \n",
       "997  2115-06-14    2115-12-29             2.0  \n",
       "998         NaN    2116-09-01             2.0  \n",
       "999         NaN           NaN             2.0  "
      ]
     },
     "execution_count": 26,
     "metadata": {},
     "output_type": "execute_result"
    }
   ],
   "source": [
    "treatments_df.tail(3)"
   ]
  }
 ],
 "metadata": {
  "kernelspec": {
   "display_name": "Python 3 (ipykernel)",
   "language": "python",
   "name": "python3"
  },
  "language_info": {
   "codemirror_mode": {
    "name": "ipython",
    "version": 3
   },
   "file_extension": ".py",
   "mimetype": "text/x-python",
   "name": "python",
   "nbconvert_exporter": "python",
   "pygments_lexer": "ipython3",
   "version": "3.10.9"
  }
 },
 "nbformat": 4,
 "nbformat_minor": 5
}
